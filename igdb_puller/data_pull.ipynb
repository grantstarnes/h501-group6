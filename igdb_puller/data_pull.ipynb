{
 "cells": [
  {
   "cell_type": "code",
   "execution_count": 5,
   "id": "9fd5461d",
   "metadata": {},
   "outputs": [
    {
     "name": "stdout",
     "output_type": "stream",
     "text": [
      "Created df_game_time_to_beats_2             from 'game_time_to_beats'  shape=(220, 9)\n",
      "Created df_popularity_primitives_2          from 'popularity_primitives'  shape=(2628, 9)\n",
      "Created df_artworks_2                       from 'artworks'  shape=(859, 10)\n",
      "Created df_covers_2                         from 'covers'  shape=(500, 9)\n",
      "Created df_external_games_2                 from 'external_games'  shape=(1906, 15)\n",
      "Created df_game_localizations_2             from 'game_localizations'  shape=(282, 8)\n",
      "Created df_involved_companies_2             from 'involved_companies'  shape=(1566, 10)\n",
      "Created df_language_supports_2              from 'language_supports'  shape=(2542, 7)\n",
      "Created df_multiplayer_modes_2              from 'multiplayer_modes'  shape=(139, 14)\n",
      "Created df_release_dates_2                  from 'release_dates'  shape=(2679, 16)\n",
      "Created df_screenshots_2                    from 'screenshots'  shape=(2910, 9)\n",
      "Created df_game_videos_2                    from 'game_videos'  shape=(906, 5)\n",
      "Created df_websites_2                       from 'websites'  shape=(2490, 6)\n",
      "Created df_age_ratings_2                    from 'age_ratings'  shape=(1440, 9)\n",
      "Created df_genres_2                         from 'genres'  shape=(21, 7)\n",
      "Created df_keywords_2                       from 'keywords'  shape=(1862, 7)\n",
      "Created df_platforms_2                      from 'platforms'  shape=(80, 17)\n",
      "Created df_player_perspectives_2            from 'player_perspectives'  shape=(6, 7)\n",
      "Created df_game_modes_2                     from 'game_modes'  shape=(5, 7)\n",
      "Created df_franchises_2                     from 'franchises'  shape=(81, 8)\n",
      "Done pulling games and dependents.\n"
     ]
    }
   ],
   "source": [
    "import os\n",
    "from igdb_puller import pull_games_and_dependents\n",
    "import pandas as pd\n",
    "import numpy as np\n",
    "import matplotlib.pyplot as plt\n",
    "#import plotly.express as px\n",
    "from pathlib import Path\n",
    "import json\n",
    "import requests\n",
    "\n",
    "pull_games_and_dependents(max_games=500, include_second_order= True)\n"
   ]
  },
  {
   "cell_type": "code",
   "execution_count": 7,
   "id": "1260e93d",
   "metadata": {},
   "outputs": [
    {
     "ename": "TypeError",
     "evalue": "'DataFrame' object is not callable",
     "output_type": "error",
     "traceback": [
      "\u001b[31m---------------------------------------------------------------------------\u001b[39m",
      "\u001b[31mTypeError\u001b[39m                                 Traceback (most recent call last)",
      "\u001b[36mCell\u001b[39m\u001b[36m \u001b[39m\u001b[32mIn[7]\u001b[39m\u001b[32m, line 1\u001b[39m\n\u001b[32m----> \u001b[39m\u001b[32m1\u001b[39m \u001b[43mdf_covers_2\u001b[49m\u001b[43m(\u001b[49m\u001b[43m)\u001b[49m\n",
      "\u001b[31mTypeError\u001b[39m: 'DataFrame' object is not callable"
     ]
    }
   ],
   "source": [
    "df_covers_2()"
   ]
  }
 ],
 "metadata": {
  "kernelspec": {
   "display_name": "base",
   "language": "python",
   "name": "python3"
  },
  "language_info": {
   "codemirror_mode": {
    "name": "ipython",
    "version": 3
   },
   "file_extension": ".py",
   "mimetype": "text/x-python",
   "name": "python",
   "nbconvert_exporter": "python",
   "pygments_lexer": "ipython3",
   "version": "3.13.5"
  }
 },
 "nbformat": 4,
 "nbformat_minor": 5
}
