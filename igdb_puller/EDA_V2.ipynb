{
 "cells": [
  {
   "cell_type": "code",
   "execution_count": 1,
   "id": "0f55d0a9",
   "metadata": {},
   "outputs": [
    {
     "ename": "RuntimeError",
     "evalue": "Missing TWITCH_CLIENT_ID/TWITCH_CLIENT_SECRET. Set env vars or add them to a .env file.",
     "output_type": "error",
     "traceback": [
      "\u001b[31m---------------------------------------------------------------------------\u001b[39m",
      "\u001b[31mRuntimeError\u001b[39m                              Traceback (most recent call last)",
      "\u001b[36mCell\u001b[39m\u001b[36m \u001b[39m\u001b[32mIn[1]\u001b[39m\u001b[32m, line 1\u001b[39m\n\u001b[32m----> \u001b[39m\u001b[32m1\u001b[39m \u001b[38;5;28;01mfrom\u001b[39;00m\u001b[38;5;250m \u001b[39m\u001b[34;01migdb_puller\u001b[39;00m\u001b[38;5;250m \u001b[39m\u001b[38;5;28;01mimport\u001b[39;00m pull_games_and_dependents, pull_tables_as_globals\n\u001b[32m      2\u001b[39m \u001b[38;5;28;01mimport\u001b[39;00m\u001b[38;5;250m \u001b[39m\u001b[34;01mpandas\u001b[39;00m\u001b[38;5;250m \u001b[39m\u001b[38;5;28;01mas\u001b[39;00m\u001b[38;5;250m \u001b[39m\u001b[34;01mpd\u001b[39;00m\n\u001b[32m      3\u001b[39m \u001b[38;5;28;01mimport\u001b[39;00m\u001b[38;5;250m \u001b[39m\u001b[34;01mnumpy\u001b[39;00m\u001b[38;5;250m \u001b[39m\u001b[38;5;28;01mas\u001b[39;00m\u001b[38;5;250m \u001b[39m\u001b[34;01mnp\u001b[39;00m\n",
      "\u001b[36mFile \u001b[39m\u001b[32m~/Documents/IU Indy - Fall '25/Video Game Project/h501-group6/igdb_puller/igdb_puller/__init__.py:14\u001b[39m\n\u001b[32m      1\u001b[39m __all__ = [\n\u001b[32m      2\u001b[39m \u001b[33m\"\u001b[39m\u001b[33mIGDBClient\u001b[39m\u001b[33m\"\u001b[39m,\n\u001b[32m      3\u001b[39m \u001b[33m\"\u001b[39m\u001b[33mpull_table\u001b[39m\u001b[33m\"\u001b[39m,\n\u001b[32m   (...)\u001b[39m\u001b[32m     10\u001b[39m \u001b[33m\"\u001b[39m\u001b[33mTABLES\u001b[39m\u001b[33m\"\u001b[39m,\n\u001b[32m     11\u001b[39m ]\n\u001b[32m---> \u001b[39m\u001b[32m14\u001b[39m \u001b[38;5;28;01mfrom\u001b[39;00m\u001b[38;5;250m \u001b[39m\u001b[34;01m.\u001b[39;00m\u001b[34;01mclient\u001b[39;00m\u001b[38;5;250m \u001b[39m\u001b[38;5;28;01mimport\u001b[39;00m IGDBClient\n\u001b[32m     15\u001b[39m \u001b[38;5;28;01mfrom\u001b[39;00m\u001b[38;5;250m \u001b[39m\u001b[34;01m.\u001b[39;00m\u001b[34;01mcli\u001b[39;00m\u001b[38;5;250m \u001b[39m\u001b[38;5;28;01mimport\u001b[39;00m pull_table, pull_tables_as_globals, pull_games_and_dependents\n\u001b[32m     16\u001b[39m \u001b[38;5;28;01mfrom\u001b[39;00m\u001b[38;5;250m \u001b[39m\u001b[34;01m.\u001b[39;00m\u001b[34;01mexporter\u001b[39;00m\u001b[38;5;250m \u001b[39m\u001b[38;5;28;01mimport\u001b[39;00m Exporter, CSVExporter, NDJSONExporter, ParquetExporter\n",
      "\u001b[36mFile \u001b[39m\u001b[32m~/Documents/IU Indy - Fall '25/Video Game Project/h501-group6/igdb_puller/igdb_puller/client.py:6\u001b[39m\n\u001b[32m      4\u001b[39m \u001b[38;5;28;01mimport\u001b[39;00m\u001b[38;5;250m \u001b[39m\u001b[34;01mpandas\u001b[39;00m\u001b[38;5;250m \u001b[39m\u001b[38;5;28;01mas\u001b[39;00m\u001b[38;5;250m \u001b[39m\u001b[34;01mpd\u001b[39;00m\n\u001b[32m      5\u001b[39m \u001b[38;5;28;01mfrom\u001b[39;00m\u001b[38;5;250m \u001b[39m\u001b[34;01mtyping\u001b[39;00m\u001b[38;5;250m \u001b[39m\u001b[38;5;28;01mimport\u001b[39;00m Dict, Iterable, Iterator, Optional, List\n\u001b[32m----> \u001b[39m\u001b[32m6\u001b[39m \u001b[38;5;28;01mfrom\u001b[39;00m\u001b[38;5;250m \u001b[39m\u001b[34;01m.\u001b[39;00m\u001b[34;01mconfig\u001b[39;00m\u001b[38;5;250m \u001b[39m\u001b[38;5;28;01mimport\u001b[39;00m TWITCH_CLIENT_ID, TWITCH_CLIENT_SECRET\n\u001b[32m      7\u001b[39m \u001b[38;5;28;01mfrom\u001b[39;00m\u001b[38;5;250m \u001b[39m\u001b[34;01m.\u001b[39;00m\u001b[34;01mutils\u001b[39;00m\u001b[38;5;250m \u001b[39m\u001b[38;5;28;01mimport\u001b[39;00m flatten_record\n\u001b[32m      9\u001b[39m TOKEN_URL = \u001b[33m\"\u001b[39m\u001b[33mhttps://id.twitch.tv/oauth2/token\u001b[39m\u001b[33m\"\u001b[39m\n",
      "\u001b[36mFile \u001b[39m\u001b[32m~/Documents/IU Indy - Fall '25/Video Game Project/h501-group6/igdb_puller/igdb_puller/config.py:18\u001b[39m\n\u001b[32m     14\u001b[39m TWITCH_CLIENT_SECRET = os.getenv(\u001b[33m\"\u001b[39m\u001b[33mTWITCH_CLIENT_SECRET\u001b[39m\u001b[33m\"\u001b[39m)\n\u001b[32m     17\u001b[39m \u001b[38;5;28;01mif\u001b[39;00m \u001b[38;5;129;01mnot\u001b[39;00m TWITCH_CLIENT_ID \u001b[38;5;129;01mor\u001b[39;00m \u001b[38;5;129;01mnot\u001b[39;00m TWITCH_CLIENT_SECRET:\n\u001b[32m---> \u001b[39m\u001b[32m18\u001b[39m     \u001b[38;5;28;01mraise\u001b[39;00m \u001b[38;5;167;01mRuntimeError\u001b[39;00m(\u001b[33m\"\u001b[39m\u001b[33mMissing TWITCH_CLIENT_ID/TWITCH_CLIENT_SECRET. Set env vars or add them to a .env file.\u001b[39m\u001b[33m\"\u001b[39m)\n\u001b[32m     21\u001b[39m DATA_DIR = Path(os.getenv(\u001b[33m\"\u001b[39m\u001b[33mIGDB_DATA_DIR\u001b[39m\u001b[33m\"\u001b[39m, \u001b[33m\"\u001b[39m\u001b[33migdb_data\u001b[39m\u001b[33m\"\u001b[39m))\n\u001b[32m     22\u001b[39m DATA_DIR.mkdir(exist_ok=\u001b[38;5;28;01mTrue\u001b[39;00m)\n",
      "\u001b[31mRuntimeError\u001b[39m: Missing TWITCH_CLIENT_ID/TWITCH_CLIENT_SECRET. Set env vars or add them to a .env file."
     ]
    }
   ],
   "source": [
    "from igdb_puller import pull_games_and_dependents, pull_tables_as_globals\n",
    "import pandas as pd\n",
    "import numpy as np\n",
    "import matplotlib.pyplot as plt\n",
    "import plotly.express as px\n",
    "from pathlib import Path\n",
    "import re"
   ]
  },
  {
   "cell_type": "code",
   "execution_count": 2,
   "id": "adfff0b9",
   "metadata": {},
   "outputs": [
    {
     "ename": "NameError",
     "evalue": "name 'pull_games_and_dependents' is not defined",
     "output_type": "error",
     "traceback": [
      "\u001b[31m---------------------------------------------------------------------------\u001b[39m",
      "\u001b[31mNameError\u001b[39m                                 Traceback (most recent call last)",
      "\u001b[36mCell\u001b[39m\u001b[36m \u001b[39m\u001b[32mIn[2]\u001b[39m\u001b[32m, line 1\u001b[39m\n\u001b[32m----> \u001b[39m\u001b[32m1\u001b[39m \u001b[43mpull_games_and_dependents\u001b[49m(max_games=\u001b[32m500\u001b[39m, include_second_order=\u001b[38;5;28;01mTrue\u001b[39;00m)\n",
      "\u001b[31mNameError\u001b[39m: name 'pull_games_and_dependents' is not defined"
     ]
    }
   ],
   "source": [
    "pull_games_and_dependents(max_games=500, include_second_order=True)"
   ]
  },
  {
   "cell_type": "code",
   "execution_count": 3,
   "id": "7911845f",
   "metadata": {},
   "outputs": [
    {
     "name": "stdout",
     "output_type": "stream",
     "text": [
      "df_age_ratings (1438, 9)\n",
      "df_artworks (858, 10)\n",
      "df_covers (500, 9)\n",
      "df_external_games (1904, 15)\n",
      "df_franchises (81, 8)\n",
      "df_game_localizations (282, 8)\n",
      "df_game_modes (5, 7)\n",
      "df_game_time_to_beats (219, 9)\n",
      "df_game_videos (907, 5)\n",
      "df_games (500, 56)\n",
      "df_genres (21, 7)\n",
      "df_involved_companies (1566, 10)\n",
      "df_keywords (1862, 7)\n",
      "df_language_supports (2541, 7)\n",
      "df_multiplayer_modes (139, 14)\n",
      "df_platforms (80, 17)\n",
      "df_player_perspectives (6, 7)\n",
      "df_popularity_primitives (2439, 9)\n",
      "df_release_dates (2679, 16)\n",
      "df_screenshots (2910, 9)\n",
      "df_websites (2483, 6)\n"
     ]
    }
   ],
   "source": [
    "for k, v in sorted((k, v) for k, v in globals().items() if k.startswith('df_') and isinstance(v, pd.DataFrame)):\n",
    "    print(k, v.shape)"
   ]
  }
 ],
 "metadata": {
  "kernelspec": {
   "display_name": "base",
   "language": "python",
   "name": "python3"
  },
  "language_info": {
   "codemirror_mode": {
    "name": "ipython",
    "version": 3
   },
   "file_extension": ".py",
   "mimetype": "text/x-python",
   "name": "python",
   "nbconvert_exporter": "python",
   "pygments_lexer": "ipython3",
   "version": "3.13.5"
  }
 },
 "nbformat": 4,
 "nbformat_minor": 5
}
